{
  "nbformat": 4,
  "nbformat_minor": 0,
  "metadata": {
    "colab": {
      "name": "Binary_Classification_Example.ipynb",
      "version": "0.3.2",
      "provenance": [],
      "collapsed_sections": [],
      "include_colab_link": true
    },
    "kernelspec": {
      "display_name": "Python 3",
      "language": "python",
      "name": "python3"
    }
  },
  "cells": [
    {
      "cell_type": "markdown",
      "metadata": {
        "id": "view-in-github",
        "colab_type": "text"
      },
      "source": [
        "<a href=\"https://colab.research.google.com/github/badriadhikari/2019-Fall-AI/blob/master/MODULE-I/Binary_Classification_Example.ipynb\" target=\"_parent\"><img src=\"https://colab.research.google.com/assets/colab-badge.svg\" alt=\"Open In Colab\"/></a>"
      ]
    },
    {
      "cell_type": "markdown",
      "metadata": {
        "id": "7kUj8gFFxwTZ",
        "colab_type": "text"
      },
      "source": [
        "# Binary Classification Example\n",
        "* We would like to predict Predict the Onset of Diabetes Based on Diagnostic Measures (The Pima Indians Diabetes Database) \n",
        "* Dataset: [rawdata](https://raw.githubusercontent.com/badriadhikari/2019-Fall-AI/master/MODULE-I/pima-indians-diabetes.data.csv) and [Reference](https://www.kaggle.com/uciml/pima-indians-diabetes-database)"
      ]
    },
    {
      "cell_type": "markdown",
      "metadata": {
        "id": "2n2UFLYnyNzs",
        "colab_type": "text"
      },
      "source": [
        "## Step 1: Verify that all requires libraries can be imported  "
      ]
    },
    {
      "cell_type": "code",
      "metadata": {
        "id": "X2Z70wjAxwTd",
        "colab_type": "code",
        "outputId": "7410b40b-5af9-45f4-fe55-c18319e80521",
        "colab": {
          "base_uri": "https://localhost:8080/",
          "height": 34
        }
      },
      "source": [
        "from keras.models import Sequential\n",
        "from keras.layers import Dense\n",
        "import matplotlib.pyplot as plt\n",
        "from sklearn.metrics import accuracy_score, precision_score, recall_score, f1_score\n",
        "import numpy as np"
      ],
      "execution_count": 1,
      "outputs": [
        {
          "output_type": "stream",
          "text": [
            "Using TensorFlow backend.\n"
          ],
          "name": "stderr"
        }
      ]
    },
    {
      "cell_type": "markdown",
      "metadata": {
        "id": "NCf94zhzxwTk",
        "colab_type": "text"
      },
      "source": [
        "## Step 2: Load the data "
      ]
    },
    {
      "cell_type": "code",
      "metadata": {
        "id": "Ekgp7YlexwTl",
        "colab_type": "code",
        "outputId": "8d3f3f20-fbb0-4b84-ff42-f298c740369c",
        "colab": {
          "base_uri": "https://localhost:8080/",
          "height": 34
        }
      },
      "source": [
        "# load pima indians dataset\n",
        "dataset = np.loadtxt(\"https://raw.githubusercontent.com/badriadhikari/2019-Fall-AI/master/MODULE-I/pima-indians-diabetes.data.csv\", delimiter=\",\")\n",
        "print(dataset.shape)"
      ],
      "execution_count": 2,
      "outputs": [
        {
          "output_type": "stream",
          "text": [
            "(768, 9)\n"
          ],
          "name": "stdout"
        }
      ]
    },
    {
      "cell_type": "markdown",
      "metadata": {
        "id": "hv4sod7ZoKcE",
        "colab_type": "text"
      },
      "source": [
        "### Questions:\n",
        "* How many rows and columns does the data have?\n",
        "* How to load a dataset that has non-numbers?"
      ]
    },
    {
      "cell_type": "markdown",
      "metadata": {
        "id": "qPNA5gq4zY3b",
        "colab_type": "text"
      },
      "source": [
        "## Step 3: Preview first 5 rows and all columns  \n",
        "`dataset[0:5, :]` means 'Rows 0 to 4 with all columns'"
      ]
    },
    {
      "cell_type": "code",
      "metadata": {
        "id": "u1SHBcPAzdPA",
        "colab_type": "code",
        "outputId": "f11990cb-f26c-408b-c171-01db6fb3a0d5",
        "colab": {
          "base_uri": "https://localhost:8080/",
          "height": 101
        }
      },
      "source": [
        "np.set_printoptions(formatter={'float': lambda x: \"{0:0.2f}\".format(x)})\n",
        "\n",
        "print(dataset[0:5, :])"
      ],
      "execution_count": 3,
      "outputs": [
        {
          "output_type": "stream",
          "text": [
            "[[6.00 148.00 72.00 35.00 0.00 33.60 0.63 50.00 1.00]\n",
            " [1.00 85.00 66.00 29.00 0.00 26.60 0.35 31.00 0.00]\n",
            " [8.00 183.00 64.00 0.00 0.00 23.30 0.67 32.00 1.00]\n",
            " [1.00 89.00 66.00 23.00 94.00 28.10 0.17 21.00 0.00]\n",
            " [0.00 137.00 40.00 35.00 168.00 43.10 2.29 33.00 1.00]]\n"
          ],
          "name": "stdout"
        }
      ]
    },
    {
      "cell_type": "markdown",
      "metadata": {
        "id": "0Tawem2fxwTo",
        "colab_type": "text"
      },
      "source": [
        "## Step 4: Split the data into Training Set and Validation Set\n",
        "* Training Set (first 700 rows) and Validation Set (remaining 68 rows) \n",
        "* The first 8 columns (0 to 7) are our features used as input to the model \n",
        "* The last column (8) is the true label (diabetes or not) or the ground truth "
      ]
    },
    {
      "cell_type": "code",
      "metadata": {
        "id": "ei1fSHBJxwTp",
        "colab_type": "code",
        "colab": {}
      },
      "source": [
        "XTRAIN = dataset[:700,0:8]\n",
        "YTRAIN = dataset[:700,8]\n",
        "XVALIDATION = dataset[700:,0:8]\n",
        "YVALIDATION = dataset[700:,8]"
      ],
      "execution_count": 0,
      "outputs": []
    },
    {
      "cell_type": "markdown",
      "metadata": {
        "id": "g3kmFFjToNTa",
        "colab_type": "text"
      },
      "source": [
        "### Questions:\n",
        "* What is our input and output?  \n",
        "* Why \"0:8\" in X and \"8\" in Y?"
      ]
    },
    {
      "cell_type": "markdown",
      "metadata": {
        "id": "ATsB4EuFob8c",
        "colab_type": "text"
      },
      "source": [
        "## Step 5: Normalize data (if needed)"
      ]
    },
    {
      "cell_type": "code",
      "metadata": {
        "id": "1vdPWvlaqgL4",
        "colab_type": "code",
        "colab": {
          "base_uri": "https://localhost:8080/",
          "height": 521
        },
        "outputId": "780a884a-66f4-416a-90bb-8a2369641416"
      },
      "source": [
        "plt.hist(XTRAIN[:, 0])\n",
        "plt.ylabel('0th Column (pregnancy)')\n",
        "plt.show()\n",
        "\n",
        "plt.hist(XTRAIN[:, 1])\n",
        "plt.ylabel('1st Column (Glocose)')\n",
        "plt.show()"
      ],
      "execution_count": 5,
      "outputs": [
        {
          "output_type": "display_data",
          "data": {
            "image/png": "[encoded data removed]",
            "text/plain": [
              "<Figure size 432x288 with 1 Axes>"
            ]
          },
          "metadata": {
            "tags": []
          }
        },
        {
          "output_type": "display_data",
          "data": {
            "image/png": "[encoded data removed]",
            "text/plain": [
              "<Figure size 432x288 with 1 Axes>"
            ]
          },
          "metadata": {
            "tags": []
          }
        }
      ]
    },
    {
      "cell_type": "code",
      "metadata": {
        "id": "2Vl2Y05rrlkO",
        "colab_type": "code",
        "colab": {
          "base_uri": "https://localhost:8080/",
          "height": 269
        },
        "outputId": "8badd798-f344-4da9-a0db-ea43a8ca4ea8"
      },
      "source": [
        "plt.hist(YTRAIN)\n",
        "plt.ylabel('Output labels')\n",
        "plt.show()"
      ],
      "execution_count": 6,
      "outputs": [
        {
          "output_type": "display_data",
          "data": {
            "image/png": "[encoded data removed]",
            "text/plain": [
              "<Figure size 432x288 with 1 Axes>"
            ]
          },
          "metadata": {
            "tags": []
          }
        }
      ]
    },
    {
      "cell_type": "code",
      "metadata": {
        "id": "r66Oy-sPobOH",
        "colab_type": "code",
        "colab": {}
      },
      "source": [
        "mean = XTRAIN.mean(axis=0)\n",
        "XTRAIN -= mean\n",
        "std = XTRAIN.std(axis=0)\n",
        "XTRAIN /= std\n",
        "\n",
        "XVALIDATION -= mean\n",
        "XVALIDATION /= std"
      ],
      "execution_count": 0,
      "outputs": []
    },
    {
      "cell_type": "code",
      "metadata": {
        "id": "WtWm3Jk2sAGW",
        "colab_type": "code",
        "colab": {
          "base_uri": "https://localhost:8080/",
          "height": 50
        },
        "outputId": "d41566b3-9efc-4c82-db6e-1b869b6c6ab2"
      },
      "source": [
        "print(mean)\n",
        "print(std)"
      ],
      "execution_count": 8,
      "outputs": [
        {
          "output_type": "stream",
          "text": [
            "[3.83 120.54 68.88 20.38 79.88 31.89 0.48 33.12]\n",
            "[3.36 32.19 19.53 16.02 115.51 7.94 0.34 11.78]\n"
          ],
          "name": "stdout"
        }
      ]
    },
    {
      "cell_type": "code",
      "metadata": {
        "id": "E3qBMMnEsKmP",
        "colab_type": "code",
        "colab": {
          "base_uri": "https://localhost:8080/",
          "height": 269
        },
        "outputId": "329353c8-2d8a-494e-ddbd-081e159c870e"
      },
      "source": [
        "plt.hist(XTRAIN[:, 0])\n",
        "plt.ylabel('0th Column (pregnancy)')\n",
        "plt.show()"
      ],
      "execution_count": 9,
      "outputs": [
        {
          "output_type": "display_data",
          "data": {
            "image/png": "[encoded data removed]",
            "text/plain": [
              "<Figure size 432x288 with 1 Axes>"
            ]
          },
          "metadata": {
            "tags": []
          }
        }
      ]
    },
    {
      "cell_type": "markdown",
      "metadata": {
        "id": "_1TpDX4H4c43",
        "colab_type": "text"
      },
      "source": [
        "## Step 6: Review the dimensions of our Training Dataset and Validation Dataset\n",
        "**Also preview some of the \"input features\" and \"correct labels\" for the datasets**"
      ]
    },
    {
      "cell_type": "code",
      "metadata": {
        "id": "Ktv3rFpVxwTs",
        "colab_type": "code",
        "outputId": "214e6a54-e763-4b68-aaa5-1c09bc823717",
        "colab": {
          "base_uri": "https://localhost:8080/",
          "height": 218
        }
      },
      "source": [
        "print(XTRAIN.shape)\n",
        "print(YTRAIN.shape)\n",
        "print(XVALIDATION.shape)\n",
        "print(YVALIDATION.shape)\n",
        "print(XTRAIN[0:3,])\n",
        "print(YTRAIN[0:3])\n",
        "print(XVALIDATION[0:3,])\n",
        "print(YVALIDATION[0:3])"
      ],
      "execution_count": 10,
      "outputs": [
        {
          "output_type": "stream",
          "text": [
            "(700, 8)\n",
            "(700,)\n",
            "(68, 8)\n",
            "(68,)\n",
            "[[0.65 0.85 0.16 0.91 -0.69 0.22 0.45 1.43]\n",
            " [-0.84 -1.10 -0.15 0.54 -0.69 -0.67 -0.37 -0.18]\n",
            " [1.24 1.94 -0.25 -1.27 -0.69 -1.08 0.58 -0.10]]\n",
            "[1.00 0.00 1.00]\n",
            "[[-0.54 0.05 0.36 0.41 1.04 0.50 0.02 -0.60]\n",
            " [0.65 0.14 0.47 0.66 -0.69 -0.54 0.26 1.35]\n",
            " [-0.84 1.47 0.98 0.54 -0.69 0.39 1.27 1.60]]\n",
            "[0.00 1.00 1.00]\n"
          ],
          "name": "stdout"
        }
      ]
    },
    {
      "cell_type": "markdown",
      "metadata": {
        "id": "-3DxGlB2xwTv",
        "colab_type": "text"
      },
      "source": [
        "## Step 7: Create a neural network model\n",
        "A network with 12 neurons in layer 1, 8 neurons in layer 2, and 1 neuron as the last layer"
      ]
    },
    {
      "cell_type": "code",
      "metadata": {
        "id": "FhRrPhElxwTw",
        "colab_type": "code",
        "outputId": "42cdbbc7-51ce-4251-f3f9-31907b57004c",
        "colab": {
          "base_uri": "https://localhost:8080/",
          "height": 390
        }
      },
      "source": [
        "model = Sequential()\n",
        "model.add(Dense(12, input_dim=8, activation='relu'))\n",
        "model.add(Dense(8, activation='relu'))\n",
        "model.add(Dense(1, activation='sigmoid'))\n",
        "print(model.summary())"
      ],
      "execution_count": 11,
      "outputs": [
        {
          "output_type": "stream",
          "text": [
            "WARNING:tensorflow:From /usr/local/lib/python3.6/dist-packages/keras/backend/tensorflow_backend.py:66: The name tf.get_default_graph is deprecated. Please use tf.compat.v1.get_default_graph instead.\n",
            "\n",
            "WARNING:tensorflow:From /usr/local/lib/python3.6/dist-packages/keras/backend/tensorflow_backend.py:541: The name tf.placeholder is deprecated. Please use tf.compat.v1.placeholder instead.\n",
            "\n",
            "WARNING:tensorflow:From /usr/local/lib/python3.6/dist-packages/keras/backend/tensorflow_backend.py:4432: The name tf.random_uniform is deprecated. Please use tf.random.uniform instead.\n",
            "\n",
            "Model: \"sequential_1\"\n",
            "_________________________________________________________________\n",
            "Layer (type)                 Output Shape              Param #   \n",
            "=================================================================\n",
            "dense_1 (Dense)              (None, 12)                108       \n",
            "_________________________________________________________________\n",
            "dense_2 (Dense)              (None, 8)                 104       \n",
            "_________________________________________________________________\n",
            "dense_3 (Dense)              (None, 1)                 9         \n",
            "=================================================================\n",
            "Total params: 221\n",
            "Trainable params: 221\n",
            "Non-trainable params: 0\n",
            "_________________________________________________________________\n",
            "None\n"
          ],
          "name": "stdout"
        }
      ]
    },
    {
      "cell_type": "markdown",
      "metadata": {
        "id": "xanb3tlopBCs",
        "colab_type": "text"
      },
      "source": [
        "### Questions: \n",
        "* Why is `input_dim = 8`?\n",
        "* Can '8' be replaced with `X[0, :]`?"
      ]
    },
    {
      "cell_type": "markdown",
      "metadata": {
        "id": "OJhrMV9xxwT4",
        "colab_type": "text"
      },
      "source": [
        "## Step 8: Compile the model\n",
        "Check if there are any cycles in the Sequential model"
      ]
    },
    {
      "cell_type": "code",
      "metadata": {
        "id": "jWYDiRrhxwT6",
        "colab_type": "code",
        "colab": {
          "base_uri": "https://localhost:8080/",
          "height": 154
        },
        "outputId": "a18eab67-6b79-403a-c52b-c5a207905d28"
      },
      "source": [
        "model.compile(loss='binary_crossentropy', optimizer='adam', metrics=['accuracy'])"
      ],
      "execution_count": 12,
      "outputs": [
        {
          "output_type": "stream",
          "text": [
            "WARNING:tensorflow:From /usr/local/lib/python3.6/dist-packages/keras/optimizers.py:793: The name tf.train.Optimizer is deprecated. Please use tf.compat.v1.train.Optimizer instead.\n",
            "\n",
            "WARNING:tensorflow:From /usr/local/lib/python3.6/dist-packages/keras/backend/tensorflow_backend.py:3657: The name tf.log is deprecated. Please use tf.math.log instead.\n",
            "\n",
            "WARNING:tensorflow:From /usr/local/lib/python3.6/dist-packages/tensorflow/python/ops/nn_impl.py:180: add_dispatch_support.<locals>.wrapper (from tensorflow.python.ops.array_ops) is deprecated and will be removed in a future version.\n",
            "Instructions for updating:\n",
            "Use tf.where in 2.0, which has the same broadcast rule as np.where\n"
          ],
          "name": "stdout"
        }
      ]
    },
    {
      "cell_type": "markdown",
      "metadata": {
        "id": "MlPJMFYAxwT8",
        "colab_type": "text"
      },
      "source": [
        "## Step 9: Train the model\n",
        "* We feed `XTRAIN` into the model and the model calculates errors using `YTRAIN`\n",
        "* In one epoch the model scans through the entire rows in the `XTRAIN`\n",
        "* Updating the number of epochs usually increases the accuracy of the model\n",
        "* To observe the accuracy on the `VALIDATION` data during the training, add `validation_data = (XTEST, YTEST)`"
      ]
    },
    {
      "cell_type": "code",
      "metadata": {
        "id": "dytoL_9SxwT9",
        "colab_type": "code",
        "outputId": "e436ad75-9d46-4e5d-f3d8-66f8805b93c1",
        "colab": {
          "base_uri": "https://localhost:8080/",
          "height": 591
        }
      },
      "source": [
        "model.fit(XTRAIN, YTRAIN, epochs=15, batch_size=10)"
      ],
      "execution_count": 13,
      "outputs": [
        {
          "output_type": "stream",
          "text": [
            "WARNING:tensorflow:From /usr/local/lib/python3.6/dist-packages/keras/backend/tensorflow_backend.py:1033: The name tf.assign_add is deprecated. Please use tf.compat.v1.assign_add instead.\n",
            "\n",
            "Epoch 1/15\n",
            "700/700 [==============================] - 0s 482us/step - loss: 0.6494 - acc: 0.6571\n",
            "Epoch 2/15\n",
            "700/700 [==============================] - 0s 128us/step - loss: 0.5795 - acc: 0.7057\n",
            "Epoch 3/15\n",
            "700/700 [==============================] - 0s 122us/step - loss: 0.5373 - acc: 0.7200\n",
            "Epoch 4/15\n",
            "700/700 [==============================] - 0s 128us/step - loss: 0.5099 - acc: 0.7286\n",
            "Epoch 5/15\n",
            "700/700 [==============================] - 0s 127us/step - loss: 0.4924 - acc: 0.7357\n",
            "Epoch 6/15\n",
            "700/700 [==============================] - 0s 116us/step - loss: 0.4815 - acc: 0.7471\n",
            "Epoch 7/15\n",
            "700/700 [==============================] - 0s 121us/step - loss: 0.4721 - acc: 0.7571\n",
            "Epoch 8/15\n",
            "700/700 [==============================] - 0s 122us/step - loss: 0.4675 - acc: 0.7614\n",
            "Epoch 9/15\n",
            "700/700 [==============================] - 0s 120us/step - loss: 0.4619 - acc: 0.7600\n",
            "Epoch 10/15\n",
            "700/700 [==============================] - 0s 119us/step - loss: 0.4580 - acc: 0.7729\n",
            "Epoch 11/15\n",
            "700/700 [==============================] - 0s 118us/step - loss: 0.4570 - acc: 0.7686\n",
            "Epoch 12/15\n",
            "700/700 [==============================] - 0s 116us/step - loss: 0.4527 - acc: 0.7743\n",
            "Epoch 13/15\n",
            "700/700 [==============================] - 0s 128us/step - loss: 0.4509 - acc: 0.7729\n",
            "Epoch 14/15\n",
            "700/700 [==============================] - 0s 121us/step - loss: 0.4490 - acc: 0.7757\n",
            "Epoch 15/15\n",
            "700/700 [==============================] - 0s 127us/step - loss: 0.4472 - acc: 0.7757\n"
          ],
          "name": "stdout"
        },
        {
          "output_type": "execute_result",
          "data": {
            "text/plain": [
              "<keras.callbacks.History at 0x7f0ca1f3e128>"
            ]
          },
          "metadata": {
            "tags": []
          },
          "execution_count": 13
        }
      ]
    },
    {
      "cell_type": "markdown",
      "metadata": {
        "id": "FpNRAdsAxwUC",
        "colab_type": "text"
      },
      "source": [
        "## Step 10: Evaluate the model on the Training data\n",
        "Yes, the same data we used to train the model"
      ]
    },
    {
      "cell_type": "code",
      "metadata": {
        "id": "iXE5jrkWxwUC",
        "colab_type": "code",
        "outputId": "4c4a7507-a3a5-4b8c-d224-02b5810fdeee",
        "colab": {
          "base_uri": "https://localhost:8080/",
          "height": 101
        }
      },
      "source": [
        "scores = model.evaluate(XTRAIN, YTRAIN)\n",
        "print(model.metrics_names)\n",
        "print(scores)\n",
        "print(\"\\n%s: %.2f%%\" % (model.metrics_names[1], scores[1]*100))"
      ],
      "execution_count": 14,
      "outputs": [
        {
          "output_type": "stream",
          "text": [
            "700/700 [==============================] - 0s 69us/step\n",
            "['loss', 'acc']\n",
            "[0.4425532993248531, 0.7742857136045184]\n",
            "\n",
            "acc: 77.43%\n"
          ],
          "name": "stdout"
        }
      ]
    },
    {
      "cell_type": "markdown",
      "metadata": {
        "id": "bKiUus2cxwUM",
        "colab_type": "text"
      },
      "source": [
        "## Step 11: The real test of the model we trained\n",
        "* We will evaluate the model on the \"Unknown\" dataset (i.e. validation dataset)"
      ]
    },
    {
      "cell_type": "code",
      "metadata": {
        "id": "4AdOsks3xwUN",
        "colab_type": "code",
        "outputId": "79537392-3f79-453f-e1be-44ca164dbaa4",
        "colab": {
          "base_uri": "https://localhost:8080/",
          "height": 67
        }
      },
      "source": [
        "scores = model.evaluate(XVALIDATION, YVALIDATION)\n",
        "print(\"\\n%s: %.2f%%\" % (model.metrics_names[1], scores[1]*100))"
      ],
      "execution_count": 15,
      "outputs": [
        {
          "output_type": "stream",
          "text": [
            "68/68 [==============================] - 0s 158us/step\n",
            "\n",
            "acc: 76.47%\n"
          ],
          "name": "stdout"
        }
      ]
    },
    {
      "cell_type": "markdown",
      "metadata": {
        "id": "LcvxStrUxwUS",
        "colab_type": "text"
      },
      "source": [
        "## Step 12: Look into what the model actually predicted\n",
        "* An example of what the model has predicted and comparison with the true classes"
      ]
    },
    {
      "cell_type": "code",
      "metadata": {
        "id": "_yu6sxhTxwUU",
        "colab_type": "code",
        "outputId": "2822c248-16ef-4f29-c254-4ec86af7a5ec",
        "colab": {
          "base_uri": "https://localhost:8080/",
          "height": 118
        }
      },
      "source": [
        "print(XVALIDATION[0:5])\n",
        "print(YVALIDATION[0:5])"
      ],
      "execution_count": 16,
      "outputs": [
        {
          "output_type": "stream",
          "text": [
            "[[-0.54 0.05 0.36 0.41 1.04 0.50 0.02 -0.60]\n",
            " [0.65 0.14 0.47 0.66 -0.69 -0.54 0.26 1.35]\n",
            " [-0.84 1.47 0.98 0.54 -0.69 0.39 1.27 1.60]\n",
            " [-0.54 0.26 -3.53 -1.27 -0.69 0.83 -0.51 0.67]\n",
            " [0.05 -0.33 0.36 -0.02 0.17 -0.44 -1.06 -0.52]]\n",
            "[0.00 1.00 1.00 0.00 0.00]\n"
          ],
          "name": "stdout"
        }
      ]
    },
    {
      "cell_type": "code",
      "metadata": {
        "id": "vYKKA1JfxwUk",
        "colab_type": "code",
        "colab": {}
      },
      "source": [
        "prediction = model.predict(XVALIDATION)"
      ],
      "execution_count": 0,
      "outputs": []
    },
    {
      "cell_type": "code",
      "metadata": {
        "id": "krXuEXj8xwUn",
        "colab_type": "code",
        "outputId": "b7b3fe28-e982-49e1-9c42-2faf9fe88a49",
        "colab": {
          "base_uri": "https://localhost:8080/",
          "height": 101
        }
      },
      "source": [
        "print(prediction[0:5])"
      ],
      "execution_count": 18,
      "outputs": [
        {
          "output_type": "stream",
          "text": [
            "[[0.24]\n",
            " [0.49]\n",
            " [0.71]\n",
            " [0.90]\n",
            " [0.11]]\n"
          ],
          "name": "stdout"
        }
      ]
    },
    {
      "cell_type": "code",
      "metadata": {
        "id": "Xg7sUMwcxwUp",
        "colab_type": "code",
        "outputId": "3d39b91f-930d-4705-856f-f79d2ea8a046",
        "colab": {
          "base_uri": "https://localhost:8080/",
          "height": 101
        }
      },
      "source": [
        "print(prediction[0:5].round())"
      ],
      "execution_count": 19,
      "outputs": [
        {
          "output_type": "stream",
          "text": [
            "[[0.00]\n",
            " [0.00]\n",
            " [1.00]\n",
            " [1.00]\n",
            " [0.00]]\n"
          ],
          "name": "stdout"
        }
      ]
    },
    {
      "cell_type": "code",
      "metadata": {
        "id": "j_oeM8FpsxUZ",
        "colab_type": "code",
        "colab": {
          "base_uri": "https://localhost:8080/",
          "height": 283
        },
        "outputId": "c5f2ebe7-e51c-4b33-95d3-a80f9892f737"
      },
      "source": [
        "plt.plot(YVALIDATION, prediction, '.')\n",
        "plt.xlabel('Correct labels')\n",
        "plt.ylabel('Predicted confidence scores')\n",
        "plt.show()"
      ],
      "execution_count": 20,
      "outputs": [
        {
          "output_type": "display_data",
          "data": {
            "image/png": "[encoded data removed]",
            "text/plain": [
              "<Figure size 432x288 with 1 Axes>"
            ]
          },
          "metadata": {
            "tags": []
          }
        }
      ]
    },
    {
      "cell_type": "markdown",
      "metadata": {
        "id": "rbZgrutwxwUr",
        "colab_type": "text"
      },
      "source": [
        "## Step 13: Accuracy is not sufficient to evaluate our model's ability to do binary classification  \n",
        "* We can further evaluate the model using precision, recall, and F1-score"
      ]
    },
    {
      "cell_type": "code",
      "metadata": {
        "id": "ScjNBZNYxwUw",
        "colab_type": "code",
        "outputId": "6b1adb42-a3d5-45f9-f0ca-f88408c06990",
        "colab": {
          "base_uri": "https://localhost:8080/",
          "height": 84
        }
      },
      "source": [
        "accuracy = accuracy_score(YVALIDATION, prediction.round())\n",
        "precision = precision_score(YVALIDATION, prediction.round())\n",
        "recall = recall_score(YVALIDATION, prediction.round())\n",
        "f1score = f1_score(YVALIDATION, prediction.round())\n",
        "print(\"Accuracy: %.2f%%\" % (accuracy * 100.0))\n",
        "print(\"Precision: %.2f%%\" % (precision * 100.0))\n",
        "print(\"Recall: %.2f%%\" % (recall * 100.0))\n",
        "print(\"F1-score: %.2f\" % (f1score))"
      ],
      "execution_count": 21,
      "outputs": [
        {
          "output_type": "stream",
          "text": [
            "Accuracy: 76.47%\n",
            "Precision: 76.19%\n",
            "Recall: 59.26%\n",
            "F1-score: 0.67\n"
          ],
          "name": "stdout"
        }
      ]
    },
    {
      "cell_type": "markdown",
      "metadata": {
        "id": "qAIlkVsu8-TW",
        "colab_type": "text"
      },
      "source": [
        "## Step 14: How can the model's performance be improved?  \n",
        "* Increase the number of epochs to 100 or 150 \n",
        "* Add more layers into the neural networks \n",
        "* Increase/Decrease the number of rows in the training/validation set"
      ]
    },
    {
      "cell_type": "code",
      "metadata": {
        "id": "9qOCQMmL9axc",
        "colab_type": "code",
        "colab": {}
      },
      "source": [
        ""
      ],
      "execution_count": 0,
      "outputs": []
    }
  ]
}