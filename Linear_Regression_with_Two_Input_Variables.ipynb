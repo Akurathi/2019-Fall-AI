{
  "nbformat": 4,
  "nbformat_minor": 0,
  "metadata": {
    "colab": {
      "name": "Linear_Regression_with_Two_Input_Variables.ipynb",
      "version": "0.3.2",
      "provenance": [],
      "collapsed_sections": [],
      "include_colab_link": true
    },
    "kernelspec": {
      "display_name": "Python 3",
      "language": "python",
      "name": "python3"
    }
  },
  "cells": [
    {
      "cell_type": "markdown",
      "metadata": {
        "id": "view-in-github",
        "colab_type": "text"
      },
      "source": [
        "<a href=\"https://colab.research.google.com/github/badriadhikari/2019-Fall-AI/blob/master/Linear_Regression_with_Two_Input_Variables.ipynb\" target=\"_parent\"><img src=\"https://colab.research.google.com/assets/colab-badge.svg\" alt=\"Open In Colab\"/></a>"
      ]
    },
    {
      "cell_type": "markdown",
      "metadata": {
        "id": "qNkOLgfjuiEa",
        "colab_type": "text"
      },
      "source": [
        "####Linear Regression with Two Input Variables using the Iris Flower Dataset  \n",
        "* We would like to predict \"petal width\" (column 4 in the original dataset) using sepal width (column 2) and petal length (column 3)  \n",
        "* Dataset: [rawdata](https://raw.githubusercontent.com/badriadhikari/2019-Fall-AI/master/MODULE-I/iris.data) and [metadata](https://raw.githubusercontent.com/badriadhikari/2019-Fall-AI/master/MODULE-I/iris.names)\n"
      ]
    },
    {
      "cell_type": "code",
      "metadata": {
        "id": "X2Z70wjAxwTd",
        "colab_type": "code",
        "outputId": "3fba8442-3513-4ce5-ad9c-3de7f9f17600",
        "colab": {
          "base_uri": "https://localhost:8080/",
          "height": 156
        }
      },
      "source": [
        "from keras.models import Sequential\n",
        "from keras.layers import Dense\n",
        "import numpy as np\n",
        "import matplotlib.pyplot as plt\n",
        "\n",
        "# Column 2. sepal width in cm (load as col 0)\n",
        "# Column 3. petal length in cm (load as col 1)\n",
        "# Column 4. petal width in cm (load as col 2)\n",
        "datapath = 'https://raw.githubusercontent.com/badriadhikari/2019-Fall-AI/master/MODULE-I/iris.data'\n",
        "dataset = np.genfromtxt(datapath, delimiter=\",\", usecols=(1, 2, 3))\n",
        "\n",
        "print('')\n",
        "print(dataset.shape)\n",
        "print('')\n",
        "print(dataset[0:5])"
      ],
      "execution_count": 2,
      "outputs": [
        {
          "output_type": "stream",
          "text": [
            "\n",
            "(150, 3)\n",
            "\n",
            "[[3.5 1.4 0.2]\n",
            " [3.  1.4 0.2]\n",
            " [3.2 1.3 0.2]\n",
            " [3.1 1.5 0.2]\n",
            " [3.6 1.4 0.2]]\n"
          ],
          "name": "stdout"
        }
      ]
    },
    {
      "cell_type": "code",
      "metadata": {
        "id": "4nu2083-o43b",
        "colab_type": "code",
        "outputId": "163b5785-1fa7-4534-f5d4-33e557f36f07",
        "colab": {
          "base_uri": "https://localhost:8080/",
          "height": 191
        }
      },
      "source": [
        "# Q1. Why is shuffling important before splitting?\n",
        "np.random.shuffle(dataset)\n",
        "print('')\n",
        "print(dataset[0:5])\n",
        "train = dataset[:100]\n",
        "valid = dataset[100:]\n",
        "print('')\n",
        "print(train.shape)\n",
        "print('')\n",
        "print(valid.shape)"
      ],
      "execution_count": 5,
      "outputs": [
        {
          "output_type": "stream",
          "text": [
            "\n",
            "[[3.7 1.5 0.2]\n",
            " [3.  4.2 1.5]\n",
            " [2.8 6.7 2. ]\n",
            " [2.4 3.7 1. ]\n",
            " [3.  1.4 0.2]]\n",
            "\n",
            "(100, 3)\n",
            "\n",
            "(50, 3)\n"
          ],
          "name": "stdout"
        }
      ]
    },
    {
      "cell_type": "code",
      "metadata": {
        "id": "PcZZQLoTpBJa",
        "colab_type": "code",
        "outputId": "b0c9e46b-3f07-406b-bbda-3881a2ee0e75",
        "colab": {
          "base_uri": "https://localhost:8080/",
          "height": 549
        }
      },
      "source": [
        "#Q2. Which of the two input features are more useful\n",
        "#    for predicting petal width?\n",
        "plt.figure(figsize=(4,4))\n",
        "plt.scatter(train[:, 0], train[:, 2], color = 'r', alpha = 0.5)\n",
        "plt.xlabel('sepal width in cm')\n",
        "plt.ylabel('petal width in cm')\n",
        "plt.show()\n",
        "plt.figure(figsize=(4,4))\n",
        "plt.scatter(train[:, 1], train[:, 2], color = 'b', alpha = 0.5)\n",
        "plt.xlabel('petal length in cm')\n",
        "plt.ylabel('petal width in cm')\n",
        "plt.show()"
      ],
      "execution_count": 6,
      "outputs": [
        {
          "output_type": "display_data",
          "data": {
            "image/png": "[encoded data removed]",
            "text/plain": [
              "<Figure size 288x288 with 1 Axes>"
            ]
          },
          "metadata": {
            "tags": []
          }
        },
        {
          "output_type": "display_data",
          "data": {
            "image/png": "[encoded data removed]",
            "text/plain": [
              "<Figure size 288x288 with 1 Axes>"
            ]
          },
          "metadata": {
            "tags": []
          }
        }
      ]
    },
    {
      "cell_type": "code",
      "metadata": {
        "id": "4EicpcZlpB-r",
        "colab_type": "code",
        "outputId": "055c2030-73fe-483b-c331-79887b91c4c5",
        "colab": {
          "base_uri": "https://localhost:8080/",
          "height": 156
        }
      },
      "source": [
        "train_input = train[:, 0:2] # col 2 & 3\n",
        "train_output = train[:, 2] # col 4\n",
        "valid_input = valid[:, 0:2]\n",
        "valid_output = valid[:, 2]\n",
        "\n",
        "print('')\n",
        "print(train_input[0:5])\n",
        "print('')\n",
        "print(train_output[0:5])"
      ],
      "execution_count": 7,
      "outputs": [
        {
          "output_type": "stream",
          "text": [
            "\n",
            "[[3.7 1.5]\n",
            " [3.  4.2]\n",
            " [2.8 6.7]\n",
            " [2.4 3.7]\n",
            " [3.  1.4]]\n",
            "\n",
            "[0.2 1.5 2.  1.  0.2]\n"
          ],
          "name": "stdout"
        }
      ]
    },
    {
      "cell_type": "code",
      "metadata": {
        "id": "2c2W0zBBpCop",
        "colab_type": "code",
        "outputId": "e9e719e1-aa0b-4ac8-d4bc-a86478b31628",
        "colab": {
          "base_uri": "https://localhost:8080/",
          "height": 191
        }
      },
      "source": [
        "#Q3. Why is the number of parameters (Param #) = 3? \n",
        "model = Sequential()\n",
        "model.add(Dense(1, input_dim = len(train_input[0]), activation='linear'))\n",
        "print(model.summary())\n",
        "\n",
        "# Changing 'mae' to 'mse' should improve the smoothness of \n",
        "#  the learning curve and possibly the overall errors\n",
        "model.compile(loss='mae', optimizer='sgd', metrics=['mae'])\n",
        "\n",
        "# Verbose = 0 shows no updates, can be changed to 1 or 2\n",
        "history = model.fit(train_input, train_output, epochs=25, \n",
        "                    verbose = 0, batch_size=10, \n",
        "                    validation_data = (valid_input, valid_output))\n"
      ],
      "execution_count": 15,
      "outputs": [
        {
          "output_type": "stream",
          "text": [
            "_________________________________________________________________\n",
            "Layer (type)                 Output Shape              Param #   \n",
            "=================================================================\n",
            "dense_3 (Dense)              (None, 1)                 3         \n",
            "=================================================================\n",
            "Total params: 3\n",
            "Trainable params: 3\n",
            "Non-trainable params: 0\n",
            "_________________________________________________________________\n",
            "None\n"
          ],
          "name": "stdout"
        }
      ]
    },
    {
      "cell_type": "code",
      "metadata": {
        "id": "M1omYwUAprR-",
        "colab_type": "code",
        "outputId": "af9cf9bd-02f4-4dfd-9bfb-b7a6b1d810e6",
        "colab": {
          "base_uri": "https://localhost:8080/",
          "height": 283
        }
      },
      "source": [
        "#Q4. Why eventually validation MAE is not \n",
        "#    always less than train MAE?\n",
        "plt.figure(figsize=(4,4))\n",
        "plt.plot(history.history['mean_absolute_error'])\n",
        "plt.plot(history.history['val_mean_absolute_error'])\n",
        "plt.ylabel('mean absolute error')\n",
        "plt.ylim(0, 1)\n",
        "plt.xlabel('epoch')\n",
        "plt.legend(['train', 'validation'], loc='upper right')\n",
        "plt.show()"
      ],
      "execution_count": 16,
      "outputs": [
        {
          "output_type": "display_data",
          "data": {
            "image/png": "[encoded data removed]",
            "text/plain": [
              "<Figure size 288x288 with 1 Axes>"
            ]
          },
          "metadata": {
            "tags": []
          }
        }
      ]
    },
    {
      "cell_type": "code",
      "metadata": {
        "id": "9_BLJERYpDT7",
        "colab_type": "code",
        "outputId": "28c11da6-a74d-4cbe-c41a-6721732333b7",
        "colab": {
          "base_uri": "https://localhost:8080/",
          "height": 87
        }
      },
      "source": [
        "#Q5. Are these predictions reasonable?\n",
        "np.set_printoptions(precision = 2)\n",
        "print ('True Validation Data:')\n",
        "print(valid_output[0:5])\n",
        "prediction = model.predict(valid_input)\n",
        "print ('Prediction:')\n",
        "print(prediction[0:5].T)"
      ],
      "execution_count": 17,
      "outputs": [
        {
          "output_type": "stream",
          "text": [
            "True Validation Data:\n",
            "[1.5 1.2 1.4 1.3 0.1]\n",
            "Prediction:\n",
            "[[1.4  1.28 1.46 1.09 0.18]]\n"
          ],
          "name": "stdout"
        }
      ]
    },
    {
      "cell_type": "code",
      "metadata": {
        "id": "JgIEocC2qAPg",
        "colab_type": "code",
        "outputId": "cccebf19-7333-4ac3-dda2-1ea0419f3d29",
        "colab": {
          "base_uri": "https://localhost:8080/",
          "height": 87
        }
      },
      "source": [
        "#Q6. What weight corresponds to which input feature?\n",
        "#    Which input feature is important? Why?     \n",
        "print('Model weights (w0, w1, and bias):')\n",
        "w0 = model.layers[0].get_weights()[0][0]\n",
        "w1 = model.layers[0].get_weights()[0][1]\n",
        "b0 = model.layers[0].get_weights()[1]\n",
        "print(w0)\n",
        "print(w1)\n",
        "print(b0)"
      ],
      "execution_count": 18,
      "outputs": [
        {
          "output_type": "stream",
          "text": [
            "Model weights (w0, w1, and bias):\n",
            "[-0.1]\n",
            "[0.38]\n",
            "[0.03]\n"
          ],
          "name": "stdout"
        }
      ]
    },
    {
      "cell_type": "code",
      "metadata": {
        "id": "0unCxAtRqCFP",
        "colab_type": "code",
        "outputId": "0b96470a-7760-4d3b-a5f1-d05fa82660f3",
        "colab": {
          "base_uri": "https://localhost:8080/",
          "height": 156
        }
      },
      "source": [
        "#Q7. Why do we use model.predict(), if we can compute\n",
        "#    the predictions from weights that the model learns?\n",
        "print('Validation Data 0:')\n",
        "print(valid_input[0], valid_output[0])\n",
        "print('Prediction:')\n",
        "print(valid_input[0, 0] * (w0) + valid_input[0, 1] * (w1) + (b0))\n",
        "print('Validation Data 1:')\n",
        "print(valid_input[1], valid_output[1])\n",
        "print('Prediction:')\n",
        "print(valid_input[1, 0] * (w0) + valid_input[1, 1] * (w1) + (b0))"
      ],
      "execution_count": 19,
      "outputs": [
        {
          "output_type": "stream",
          "text": [
            "Validation Data 0:\n",
            "[3.2 4.5] 1.5\n",
            "Prediction:\n",
            "[1.4]\n",
            "Validation Data 1:\n",
            "[2.6 4. ] 1.2\n",
            "Prediction:\n",
            "[1.28]\n"
          ],
          "name": "stdout"
        }
      ]
    },
    {
      "cell_type": "code",
      "metadata": {
        "id": "Bm_wek3UUN0I",
        "colab_type": "code",
        "colab": {}
      },
      "source": [
        "model = Sequential()\n",
        "model.add(Dense(1, input_dim = len(train_input[0]), activation='linear'))"
      ],
      "execution_count": 0,
      "outputs": []
    },
    {
      "cell_type": "code",
      "metadata": {
        "id": "GxRN_totUSdQ",
        "colab_type": "code",
        "colab": {}
      },
      "source": [
        "model = Sequential()\n",
        "model.add(Dense(8, input_dim = len(train_input[0]), activation='sigmoid'))\n",
        "model.add(Dense(4, input_dim = len(train_input[0]), activation='sigmoid'))\n",
        "model.add(Dense(2, input_dim = len(train_input[0]), activation='sigmoid'))\n",
        "model.add(Dense(1, input_dim = len(train_input[0]), activation='linear'))"
      ],
      "execution_count": 0,
      "outputs": []
    },
    {
      "cell_type": "code",
      "metadata": {
        "id": "qTPefpiCUfNm",
        "colab_type": "code",
        "colab": {}
      },
      "source": [
        "def mymodel(X):\n",
        "    l1_n1 = X[0] * 0.6 + X[1] * 0.78 + ... + 0.98\n",
        "    l1_n2 = X[0] * 0.4 + X[1] * 0.54 + ... + 0.80\n",
        "    ...\n",
        "    l1_n8 = X[0] * 0.2 + X[1] * 0.81 + ... + 0.38\n",
        "    l2_n1 = ...\n",
        "    ...\n",
        "    l3_n1 = ...\n",
        "    ...\n",
        "    l4 = \n",
        "    return l4"
      ],
      "execution_count": 0,
      "outputs": []
    }
  ]
}